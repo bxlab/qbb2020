{
  "nbformat": 4, 
  "cells": [
    {
      "source": "## Learning objectives\n\n\n1. Understanding assert statements\n\n2. Parsing FASTA files\n\n3. Writing a Python class\n\n4. Creating an iterator\n\n5. Writing a k-mer counter\n\n---\n\n\n\n\n## Defensive programming\n\n\n", 
      "cell_type": "markdown", 
      "attachments": {}, 
      "metadata": {}
    }, 
    {
      "execution_count": 0, 
      "cell_type": "code", 
      "source": "def test(a):\n    assert a > 5, 'Value is too small'\n    print('Value is big enough')\n\ntest(10)\ntest(2)", 
      "outputs": [], 
      "metadata": {
        "scrolled": true, 
        "collapsed": false, 
        "format": "row"
      }
    }, 
    {
      "source": "## Parsing a FASTA sequence\n\n\nFASTA format\n\n\n<br><div style=\"background: #EEE\"> \\>sequence 1<br> AGATCTCCCTGAGAGAAGAGCTCTCTCTCGA<br> TCTCGGATTACGTAGGCTAGAGAGAGAGCTA<br> TTCAA<br> \\>sequence 2<br> GATCTCGGGATAAAAAAACTGGGATCTGATC<br> ATCTAAAGAGAG </div><br>\n\n\n", 
      "cell_type": "markdown", 
      "attachments": {}, 
      "metadata": {}
    }, 
    {
      "execution_count": 0, 
      "cell_type": "code", 
      "source": "# Let's have it accept an open file object\n# That way it can be passed a file or standard input\n\ndef single_FASTAReader(file):\n\t# Get the first line, which should contain the sequence name\n\tline = file.readline()\n\n\t# Let's make sure the file looks like a FASTA file\n\tassert line.startswith('>'), \"Not a FASTA file\"\n\t\n\t# Get the sequence name\n\tseq_id = line[1:].rstrip('\\r\\n')\n\n\t# create a list to contain the \n\tsequence = []\n\n\t# Get the next line\n\tline = file.readline()\n\n\t# Keep reading lines until we run out\n\twhile line:\n\t\t# Check if we've reached a new sequence (in a multi-sequence file)\n\t\tif line.startswith('>'):\n\t\t\tbreak\n\n\t\t# Add next chunk of sequence\n\t\tsequence.append(line.strip())\n\t\t\n\t\t# Get the next line\n\t\tline = file.readline()\n\treturn (seq_id, ''.join(sequence))", 
      "outputs": [], 
      "metadata": {
        "scrolled": true, 
        "collapsed": false, 
        "format": "row"
      }
    }, 
    {
      "execution_count": 0, 
      "cell_type": "code", 
      "source": "name, seq = single_FASTAReader(open('subset.fa'))\nprint(name, seq)", 
      "outputs": [], 
      "metadata": {
        "scrolled": true, 
        "collapsed": false, 
        "format": "row"
      }
    }, 
    {
      "source": "## Parsing a FASTA file\n\n\n", 
      "cell_type": "markdown", 
      "attachments": {}, 
      "metadata": {}
    }, 
    {
      "execution_count": 0, 
      "cell_type": "code", 
      "source": "def FASTAReader(file):\n    # Get the first line, which should contain the sequence name\n    line = file.readline()\n\n    # Let's make sure the file looks like a FASTA file\n    assert line.startswith('>'), \"Not a FASTA file\"\n    \n    # Get the sequence name\n    seq_id = line[1:].rstrip('\\r\\n')\n\n    # create a list to contain the \n    sequence = []\n\n    # Get the next line\n    line = file.readline()\n\n    # Add a list to hold all of the sequences in\n    sequences = []\n\n    # Keep reading lines until we run out\n    while line:\n        # Check if we've reached a new sequence (in a multi-sequence file)\n        if line.startswith('>'):\n            # Add previous sequence to list\n            sequences.append((seq_id, ''.join(sequence)))\n            \n            # Record new sequence name and reset sequence\n            seq_id = line[1:].rstrip('\\r\\n')\n            sequence = []\n        else:\n            # Add next chunk of sequence\n            sequence.append(line.strip())\n        \n        # Get the next line\n        line = file.readline()\n    # Add the last sequence to sequences\n    sequences.append((seq_id, ''.join(sequence)))\n\n    return sequences", 
      "outputs": [], 
      "metadata": {
        "scrolled": true, 
        "collapsed": false, 
        "format": "row"
      }
    }, 
    {
      "execution_count": 0, 
      "cell_type": "code", 
      "source": "seqs = FASTAReader(open('subset.fa'))\nprint(len(seqs))\nprint(seqs[0])\nprint(seqs[1])", 
      "outputs": [], 
      "metadata": {
        "scrolled": true, 
        "collapsed": false, 
        "format": "row"
      }
    }, 
    {
      "source": "## Python Classes\n\n\n", 
      "cell_type": "markdown", 
      "attachments": {}, 
      "metadata": {}
    }, 
    {
      "execution_count": 0, 
      "cell_type": "code", 
      "source": "class OurClass(object):\n    def __init__(self):\n        print('created')\n\ninstance = OurClass()        ", 
      "outputs": [], 
      "metadata": {
        "scrolled": true, 
        "collapsed": false, 
        "format": "row"
      }
    }, 
    {
      "execution_count": 0, 
      "cell_type": "code", 
      "source": "class Rect(object):\n    def __init__(self, width, height):\n        self.width = width\n        self.height = height\n\n    def area(self):\n        return self.width * self.height\n\nR = Rect(5, 10)\nprint(R.area())", 
      "outputs": [], 
      "metadata": {
        "scrolled": true, 
        "collapsed": false, 
        "format": "row"
      }
    }, 
    {
      "execution_count": 0, 
      "cell_type": "code", 
      "source": "class Iterator(object):\n    def __init__(self, start, stop):\n        self.start = start\n        self.stop = stop\n        self.current = start - 1\n\n    def __iter__(self):\n        return self\n\n    def __next__(self):\n        self.current += 1\n        if self.current >= self.stop:\n            raise StopIteration\n        return self.current\n\nI = Iterator(0, 10)\nfor i in I:\n    print(i)", 
      "outputs": [], 
      "metadata": {
        "scrolled": true, 
        "collapsed": false, 
        "format": "row"
      }
    }, 
    {
      "source": "## FASTA iterator\n\n\n", 
      "cell_type": "markdown", 
      "attachments": {}, 
      "metadata": {}
    }, 
    {
      "execution_count": 0, 
      "cell_type": "code", 
      "source": "class FASTAReader(object):\n\n    def __init__(self, file):\n        self.last_id = None\n        self.file = file\n        self.eof = False\n\n    def __iter__(self):\n        return self\n\n    def __next__(self):\n        if self.eof:\n            raise StopIteration\n        # check if this is the first sequence from the file\n        if self.last_id is None:\n            # First line\n            line = self.file.readline()\n            # Verify that this is a FASTA file\n            assert line.startswith(\">\"), \"Not a FASTA file\"\n            # Get the sequence ID\n            seq_id = line[1:].rstrip(\"\\r\\n\")\n        else:\n            # Get ID from previous round\n            seq_id = self.last_id\n\n        sequence = []\n        while True:\n            line = self.file.readline()\n            # Check if we've reached the end of the file\n            if line == \"\":\n                self.eof = True\n                break\n            # Check if we've reached the next sequence\n            elif not line.startswith(\">\"):\n                sequence.append(line.strip())\n            # We've reached the next sequence ID\n            else:\n                self.last_id = line[1:].rstrip(\"\\r\\n\")\n                break\n        \n        sequence = \"\".join(sequence)\n        return seq_id, sequence\n\nreader = FASTAReader(open('subset.fa'))\nfor seq_id, seq in reader:\n    print(seq_id, seq)", 
      "outputs": [], 
      "metadata": {
        "scrolled": true, 
        "collapsed": false, 
        "format": "row"
      }
    }, 
    {
      "source": "## K-mer counting\n\n\n", 
      "cell_type": "markdown", 
      "attachments": {}, 
      "metadata": {}
    }, 
    {
      "execution_count": 0, 
      "cell_type": "code", 
      "source": "reader = FASTAReader(open('subset.fa'))\nkmers = {}\n\nk = 11\n\nfor seq_id, sequence in reader:\n    for i in range(0, len(sequence) - k):\n        kmer = sequence[i:i + k]\n        kmers.setdefault(kmer, 0)\n        kmers[kmer] += 1\n\nfor key in kmers:\n    print(key, kmers[key])", 
      "outputs": [], 
      "metadata": {
        "scrolled": true, 
        "collapsed": false, 
        "format": "row"
      }
    }, 
    {
      "source": "## Importing functions and classes from other scripts\n\n\n", 
      "cell_type": "markdown", 
      "attachments": {}, 
      "metadata": {}
    }
  ], 
  "metadata": {
    "kernelspec": {
      "display_name": "Python 3", 
      "name": "python3", 
      "language": "python"
    }, 
    "toc": {
      "nav_menu": {}, 
      "toc_window_display": true, 
      "base_numbering": 1, 
      "title_sidebar": "Contents", 
      "skip_h1_title": false, 
      "toc_postion": {}, 
      "toc_section_display": true, 
      "title_cell": "Table of Contents", 
      "number_sections": false, 
      "sideBar": true, 
      "toc_cell": false
    }, 
    "language_info": {
      "mimetype": "text/x-python", 
      "nbconvert_exporter": "python", 
      "name": "python", 
      "file_extension": ".py", 
      "version": "3.7.6", 
      "pygments_lexer": "ipython3", 
      "codemirror_mode": {
        "version": 3, 
        "name": "ipython"
      }
    }
  }, 
  "nbformat_minor": 4
}