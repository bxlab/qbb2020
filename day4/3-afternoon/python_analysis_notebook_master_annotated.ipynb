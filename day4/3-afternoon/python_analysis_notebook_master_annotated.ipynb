{
 "cells": [
  {
   "cell_type": "markdown",
   "metadata": {},
   "source": [
    "## Learning objectives\n",
    "\n",
    "\n",
    "1. Understanding assert statements\n",
    "\n",
    "2. Parsing FASTA files\n",
    "\n",
    "3. Writing a Python class\n",
    "\n",
    "4. Creating an iterator\n",
    "\n",
    "5. Writing a k-mer counter\n",
    "\n",
    "---\n",
    "\n",
    "\n",
    "\n",
    "\n",
    "## Defensive programming\n",
    "\n",
    "\n",
    "One of the first things that you need to be aware of when writing scripts that you may use more than once or get used by other people is that people goof up, and you should make sure that your program can handle that in some fashion. One of the easiest ways to do this is to do checks along to ensure that everything is what our program expects before code gets executed. To do this, we'll use the `assert` statement.\n",
    "\n",
    "\n",
    "`assert` checks if condition is true or not. If it is false, the program is exited with an AssertionError. You can also pass a string to print along with the error.\n",
    "\n",
    "\n"
   ]
  },
  {
   "cell_type": "code",
   "execution_count": 0,
   "metadata": {
    "format": "row",
    "scrolled": true
   },
   "outputs": [],
   "source": [
    "def test(a):\n",
    "    assert a > 5, 'Value is too small'\n",
    "    print('Value is big enough')\n",
    "\n",
    "test(10)\n",
    "test(2)"
   ]
  },
  {
   "cell_type": "markdown",
   "metadata": {},
   "source": [
    "This is particularly useful for reading files to make sure that the file is formatted as expected.\n",
    "\n",
    "\n",
    "## Parsing a FASTA sequence\n",
    "\n",
    "\n",
    "First, let's make sure that everyone knows what a FASTA file is and looks like. A FASTA file is a text file containing one or more sequences of nucleotides or amino acids. Each sequence has an associated name.\n",
    "\n",
    "\n",
    "<br><div style=\"background: #EEE\"> \\>sequence 1<br> AGATCTCCCTGAGAGAAGAGCTCTCTCTCGA<br> TCTCGGATTACGTAGGCTAGAGAGAGAGCTA<br> TTCAA<br> \\>sequence 2<br> GATCTCGGGATAAAAAAACTGGGATCTGATC<br> ATCTAAAGAGAG </div><br>\n",
    "\n",
    "\n",
    "So, each sequence starts with a '>' followed by the sequence name. Then, all subsequent lines until the next sequence or the end of the file contain the sequence, broken up with a uniform number of characters per line.\n",
    "\n",
    "\n",
    "Let's write a function to read in a single FASTA file.\n",
    "\n",
    "\n"
   ]
  },
  {
   "cell_type": "code",
   "execution_count": 0,
   "metadata": {
    "format": "row",
    "scrolled": true
   },
   "outputs": [],
   "source": [
    "# Let's have it accept an open file object\n",
    "# That way it can be passed a file or standard input\n",
    "\n",
    "def single_FASTAReader(file):\n",
    "\t# Get the first line, which should contain the sequence name\n",
    "\tline = file.readline()\n",
    "\n",
    "\t# Let's make sure the file looks like a FASTA file\n",
    "\tassert line.startswith('>'), \"Not a FASTA file\"\n",
    "\t\n",
    "\t# Get the sequence name\n",
    "\tseq_id = line[1:].rstrip('\\r\\n')\n",
    "\n",
    "\t# create a list to contain the \n",
    "\tsequence = []\n",
    "\n",
    "\t# Get the next line\n",
    "\tline = file.readline()\n",
    "\n",
    "\t# Keep reading lines until we run out\n",
    "\twhile line:\n",
    "\t\t# Check if we've reached a new sequence (in a multi-sequence file)\n",
    "\t\tif line.startswith('>'):\n",
    "\t\t\tbreak\n",
    "\n",
    "\t\t# Add next chunk of sequence\n",
    "\t\tsequence.append(line.strip())\n",
    "\t\t\n",
    "\t\t# Get the next line\n",
    "\t\tline = file.readline()\n",
    "\treturn (seq_id, ''.join(sequence))"
   ]
  },
  {
   "cell_type": "markdown",
   "metadata": {},
   "source": [
    "Now we need to test whether our function works. We'll use the file 'subset.fa' to test this. You can see how this file was generate in the script prep.sh. This file contains a subset of Drosophila melanogaster rna transcripts from a male embryo. So, does the function work?\n",
    "\n",
    "\n"
   ]
  },
  {
   "cell_type": "code",
   "execution_count": 0,
   "metadata": {
    "format": "row",
    "scrolled": true
   },
   "outputs": [],
   "source": [
    "name, seq = single_FASTAReader(open('subset.fa'))\n",
    "print(name, seq)"
   ]
  },
  {
   "cell_type": "markdown",
   "metadata": {},
   "source": [
    "Finally, let's put it into a script and see if we can run it on standard input data.\n",
    "\n",
    "\n",
    "## Parsing a FASTA file\n",
    "\n",
    "\n",
    "The next step is expand the code to handle multiple sequences. This should be a simple matter of putting some new code in the if statement.\n",
    "\n",
    "\n"
   ]
  },
  {
   "cell_type": "code",
   "execution_count": 0,
   "metadata": {
    "format": "row",
    "scrolled": true
   },
   "outputs": [],
   "source": [
    "def FASTAReader(file):\n",
    "    # Get the first line, which should contain the sequence name\n",
    "    line = file.readline()\n",
    "\n",
    "    # Let's make sure the file looks like a FASTA file\n",
    "    assert line.startswith('>'), \"Not a FASTA file\"\n",
    "    \n",
    "    # Get the sequence name\n",
    "    seq_id = line[1:].rstrip('\\r\\n')\n",
    "\n",
    "    # create a list to contain the \n",
    "    sequence = []\n",
    "\n",
    "    # Get the next line\n",
    "    line = file.readline()\n",
    "\n",
    "    # Add a list to hold all of the sequences in\n",
    "    sequences = []\n",
    "\n",
    "    # Keep reading lines until we run out\n",
    "    while line:\n",
    "        # Check if we've reached a new sequence (in a multi-sequence file)\n",
    "        if line.startswith('>'):\n",
    "            # Add previous sequence to list\n",
    "            sequences.append((seq_id, ''.join(sequence)))\n",
    "            \n",
    "            # Record new sequence name and reset sequence\n",
    "            seq_id = line[1:].rstrip('\\r\\n')\n",
    "            sequence = []\n",
    "        else:\n",
    "            # Add next chunk of sequence\n",
    "            sequence.append(line.strip())\n",
    "        \n",
    "        # Get the next line\n",
    "        line = file.readline()\n",
    "    # Add the last sequence to sequences\n",
    "    sequences.append((seq_id, ''.join(sequence)))\n",
    "\n",
    "    return sequences"
   ]
  },
  {
   "cell_type": "markdown",
   "metadata": {},
   "source": [
    "And let's see whether it works.\n",
    "\n",
    "\n"
   ]
  },
  {
   "cell_type": "code",
   "execution_count": 0,
   "metadata": {
    "format": "row",
    "scrolled": true
   },
   "outputs": [],
   "source": [
    "seqs = FASTAReader(open('subset.fa'))\n",
    "print(len(seqs))\n",
    "print(seqs[0])\n",
    "print(seqs[1])"
   ]
  },
  {
   "cell_type": "markdown",
   "metadata": {},
   "source": [
    "## Python Classes\n",
    "\n",
    "\n",
    "One concept we haven't talked about yet is  the Python Class. A class is a python object that contains its own variables and methods. That should sound familiar as we've seen classes already in the form of all of the python data types.\n",
    "\n",
    "\n",
    "Let's create our own class. Every class requires two things. A class declaration and an initialization method.\n",
    "\n",
    "\n"
   ]
  },
  {
   "cell_type": "code",
   "execution_count": 0,
   "metadata": {
    "format": "row",
    "scrolled": true
   },
   "outputs": [],
   "source": [
    "class OurClass(object):\n",
    "    def __init__(self):\n",
    "        print('created')\n",
    "\n",
    "instance = OurClass()        "
   ]
  },
  {
   "cell_type": "markdown",
   "metadata": {},
   "source": [
    "Now we've defined our class and created an instance of it. Classes had lots of special methods that can be defined. Special methods start and end with the double-underscore. For example '__init__'. We can define any number of methods in a class. Every method takes 'self' as its first argument. This gives us access to all of the classes internal variables and methods.\n",
    "\n",
    "\n"
   ]
  },
  {
   "cell_type": "code",
   "execution_count": 0,
   "metadata": {
    "format": "row",
    "scrolled": true
   },
   "outputs": [],
   "source": [
    "class Rect(object):\n",
    "    def __init__(self, width, height):\n",
    "        self.width = width\n",
    "        self.height = height\n",
    "\n",
    "    def area(self):\n",
    "        return self.width * self.height\n",
    "\n",
    "R = Rect(5, 10)\n",
    "print(R.area())"
   ]
  },
  {
   "cell_type": "markdown",
   "metadata": {},
   "source": [
    "We've talked about iterators before. Let's see how to create one. There arae two special methods we need to define. The first is `__iter__` and acts like the `__init__` method when the class is called as an iterator. The second is `__next__`, which returns information each time the iterator is tapped.\n",
    "\n",
    "\n"
   ]
  },
  {
   "cell_type": "code",
   "execution_count": 0,
   "metadata": {
    "format": "row",
    "scrolled": true
   },
   "outputs": [],
   "source": [
    "class Iterator(object):\n",
    "    def __init__(self, start, stop):\n",
    "        self.start = start\n",
    "        self.stop = stop\n",
    "        self.current = start - 1\n",
    "\n",
    "    def __iter__(self):\n",
    "        return self\n",
    "\n",
    "    def __next__(self):\n",
    "        self.current += 1\n",
    "        if self.current >= self.stop:\n",
    "            raise StopIteration\n",
    "        return self.current\n",
    "\n",
    "I = Iterator(0, 10)\n",
    "for i in I:\n",
    "    print(i)"
   ]
  },
  {
   "cell_type": "markdown",
   "metadata": {},
   "source": [
    "## FASTA iterator\n",
    "\n",
    "\n",
    "An iterator seems ideally suited to our FASTA parser, since we want to access one sequence at a time from the file. Currently, we have the whole FASTA file being read in at once. In the case of mammalian genomes, that can be a large amount of data. An iterator will only look a chunk at a time. With large datasets, this may be important.\n",
    "\n",
    "\n"
   ]
  },
  {
   "cell_type": "code",
   "execution_count": 0,
   "metadata": {
    "format": "row",
    "scrolled": true
   },
   "outputs": [],
   "source": [
    "class FASTAReader(object):\n",
    "\n",
    "    def __init__(self, file):\n",
    "        self.last_id = None\n",
    "        self.file = file\n",
    "        self.eof = False\n",
    "\n",
    "    def __iter__(self):\n",
    "        return self\n",
    "\n",
    "    def __next__(self):\n",
    "        if self.eof:\n",
    "            raise StopIteration\n",
    "        # check if this is the first sequence from the file\n",
    "        if self.last_id is None:\n",
    "            # First line\n",
    "            line = self.file.readline()\n",
    "            # Verify that this is a FASTA file\n",
    "            assert line.startswith(\">\"), \"Not a FASTA file\"\n",
    "            # Get the sequence ID\n",
    "            seq_id = line[1:].rstrip(\"\\r\\n\")\n",
    "        else:\n",
    "            # Get ID from previous round\n",
    "            seq_id = self.last_id\n",
    "\n",
    "        sequence = []\n",
    "        while True:\n",
    "            line = self.file.readline()\n",
    "            # Check if we've reached the end of the file\n",
    "            if line == \"\":\n",
    "                self.eof = True\n",
    "                break\n",
    "            # Check if we've reached the next sequence\n",
    "            elif not line.startswith(\">\"):\n",
    "                sequence.append(line.strip())\n",
    "            # We've reached the next sequence ID\n",
    "            else:\n",
    "                self.last_id = line[1:].rstrip(\"\\r\\n\")\n",
    "                break\n",
    "        \n",
    "        sequence = \"\".join(sequence)\n",
    "        return seq_id, sequence\n",
    "\n",
    "reader = FASTAReader(open('subset.fa'))\n",
    "for seq_id, seq in reader:\n",
    "    print(seq_id, seq)"
   ]
  },
  {
   "cell_type": "markdown",
   "metadata": {},
   "source": [
    "## K-mer counting\n",
    "\n",
    "\n",
    "Now that we can read in FASTA files, let's do something with them. K-mers, or arbitrary length sequences, are used in a wide variety of bioinformatic algorithms and analysis methods, such as sequence alignment and metagenomic species parsing. So let's start with the simple task of loading the sequences in our FASTA file and counting all of the K-mers that occur in it for some value of 'k'.\n",
    "\n",
    "\n"
   ]
  },
  {
   "cell_type": "code",
   "execution_count": 0,
   "metadata": {
    "format": "row",
    "scrolled": true
   },
   "outputs": [],
   "source": [
    "reader = FASTAReader(open('subset.fa'))\n",
    "kmers = {}\n",
    "\n",
    "k = 11\n",
    "\n",
    "for seq_id, sequence in reader:\n",
    "    for i in range(0, len(sequence) - k):\n",
    "        kmer = sequence[i:i + k]\n",
    "        kmers.setdefault(kmer, 0)\n",
    "        kmers[kmer] += 1\n",
    "\n",
    "for key in kmers:\n",
    "    print(key, kmers[key])"
   ]
  },
  {
   "cell_type": "markdown",
   "metadata": {},
   "source": [
    "## Importing functions and classes from other scripts\n",
    "\n",
    "\n",
    "Much like we can load python modules using the `import` statement, we can import classes and functions from any code that is in the same folder as the code we're executing. This means that  you can easily reuse code that you've previously written, such as the FASTA reader.\n",
    "\n",
    "\n"
   ]
  }
 ],
 "metadata": {
  "kernelspec": {
   "display_name": "Python 3",
   "language": "python",
   "name": "python3"
  },
  "language_info": {
   "codemirror_mode": {
    "name": "ipython",
    "version": 3
   },
   "file_extension": ".py",
   "mimetype": "text/x-python",
   "name": "python",
   "nbconvert_exporter": "python",
   "pygments_lexer": "ipython3",
   "version": "3.5.0"
  },
  "toc": {
   "base_numbering": 1,
   "nav_menu": {},
   "number_sections": false,
   "sideBar": true,
   "skip_h1_title": false,
   "title_cell": "Table of Contents",
   "title_sidebar": "Contents",
   "toc_cell": false,
   "toc_postion": {},
   "toc_section_display": true,
   "toc_window_display": true
  }
 },
 "nbformat": 4,
 "nbformat_minor": 4
}
