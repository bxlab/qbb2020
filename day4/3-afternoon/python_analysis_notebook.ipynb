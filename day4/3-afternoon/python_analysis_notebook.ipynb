{
  "nbformat": 4, 
  "cells": [
    {
      "source": "## Learning objectives\n\n\n1. Understanding assert statements\n\n2. Parsing FASTA files\n\n3. Writing a Python class\n\n4. Creating an iterator\n\n5. Writing a k-mer counter\n\n---\n\n\n\n\n## Defensive programming\n\n\n", 
      "cell_type": "markdown", 
      "attachments": {}, 
      "metadata": {}
    }, 
    {
      "execution_count": 0, 
      "cell_type": "code", 
      "source": "", 
      "outputs": [], 
      "metadata": {
        "scrolled": true, 
        "collapsed": false, 
        "format": "row"
      }
    }, 
    {
      "source": "## Parsing a FASTA sequence\n\n\nThe FASTA file format <br><div style=\"background: #EEE\"> \\>sequence 1<br> AGATCTCCCTGAGAGAAGAGCTCTCTCTCGA<br> TCTCGGATTACGTAGGCTAGAGAGAGAGCTA<br> TTCAA<br> \\>sequence 2<br> GATCTCGGGATAAAAAAACTGGGATCTGATC<br> ATCTAAAGAGAG </div><br>\n\n\n", 
      "cell_type": "markdown", 
      "attachments": {}, 
      "metadata": {}
    }, 
    {
      "execution_count": 0, 
      "cell_type": "code", 
      "source": "", 
      "outputs": [], 
      "metadata": {
        "scrolled": true, 
        "collapsed": false, 
        "format": "row"
      }
    }, 
    {
      "source": "## Parsing a FASTA file\n\n\n", 
      "cell_type": "markdown", 
      "attachments": {}, 
      "metadata": {}
    }, 
    {
      "execution_count": 0, 
      "cell_type": "code", 
      "source": "", 
      "outputs": [], 
      "metadata": {
        "scrolled": true, 
        "collapsed": false, 
        "format": "row"
      }
    }, 
    {
      "source": "## Python Classes\n\n\n", 
      "cell_type": "markdown", 
      "attachments": {}, 
      "metadata": {}
    }, 
    {
      "execution_count": 0, 
      "cell_type": "code", 
      "source": "", 
      "outputs": [], 
      "metadata": {
        "scrolled": true, 
        "collapsed": false, 
        "format": "row"
      }
    }, 
    {
      "source": "## FASTA iterator\n\n\n", 
      "cell_type": "markdown", 
      "attachments": {}, 
      "metadata": {}
    }, 
    {
      "execution_count": 0, 
      "cell_type": "code", 
      "source": "", 
      "outputs": [], 
      "metadata": {
        "scrolled": true, 
        "collapsed": false, 
        "format": "row"
      }
    }, 
    {
      "source": "## K-mer counting\n\n\n", 
      "cell_type": "markdown", 
      "attachments": {}, 
      "metadata": {}
    }, 
    {
      "execution_count": 0, 
      "cell_type": "code", 
      "source": "", 
      "outputs": [], 
      "metadata": {
        "scrolled": true, 
        "collapsed": false, 
        "format": "row"
      }
    }, 
    {
      "source": "## Importing functions and classes from other scripts\n\n\n", 
      "cell_type": "markdown", 
      "attachments": {}, 
      "metadata": {}
    }
  ], 
  "metadata": {
    "kernelspec": {
      "display_name": "Python 3", 
      "name": "python3", 
      "language": "python"
    }, 
    "toc": {
      "nav_menu": {}, 
      "toc_window_display": true, 
      "base_numbering": 1, 
      "title_sidebar": "Contents", 
      "skip_h1_title": false, 
      "toc_postion": {}, 
      "toc_section_display": true, 
      "title_cell": "Table of Contents", 
      "number_sections": false, 
      "sideBar": true, 
      "toc_cell": false
    }, 
    "language_info": {
      "mimetype": "text/x-python", 
      "nbconvert_exporter": "python", 
      "name": "python", 
      "file_extension": ".py", 
      "version": "3.7.6", 
      "pygments_lexer": "ipython3", 
      "codemirror_mode": {
        "version": 3, 
        "name": "ipython"
      }
    }
  }, 
  "nbformat_minor": 4
}